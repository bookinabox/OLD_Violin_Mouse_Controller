{
 "cells": [
  {
   "cell_type": "code",
   "execution_count": 2,
   "metadata": {},
   "outputs": [],
   "source": [
    "import pyautogui as pag\n",
    "import music21 as mus\n",
    "\n",
    "#temp placeholder note for testing pitches until pd works\n",
    "current_note = 164\n",
    "\n",
    "#leniency for note tone\n",
    "wiggle = 3\n",
    "#keeps track of last note\n",
    "lastNote = note\n",
    "#keeps track of whether or not command is being executed\n",
    "startRecording = False\n",
    "#empty array to store command\n",
    "command = []\n",
    "#remember index\n",
    "index = 0"
   ]
  },
  {
   "cell_type": "code",
   "execution_count": 8,
   "metadata": {
    "collapsed": true
   },
   "outputs": [],
   "source": [
    "#empty array of the midi value of notes for reference\n",
    "noteValues = {'G3': 43, 'A4' : 45, 'B4': 47, 'C4' : 48, 'D4' : 50, 'E4' : 52, 'F4': 53, 'G4' : 55, 'A5' : 57}"
   ]
  },
  {
   "cell_type": "code",
   "execution_count": null,
   "metadata": {
    "collapsed": true
   },
   "outputs": [],
   "source": [
    "#commands of notes\n"
   ]
  },
  {
   "cell_type": "code",
   "execution_count": 14,
   "metadata": {},
   "outputs": [
    {
     "data": {
      "text/plain": [
       "43"
      ]
     },
     "execution_count": 14,
     "metadata": {},
     "output_type": "execute_result"
    }
   ],
   "source": [
    "#testing notes\n",
    "noteValues['G3']"
   ]
  },
  {
   "cell_type": "code",
   "execution_count": 15,
   "metadata": {},
   "outputs": [
    {
     "ename": "SyntaxError",
     "evalue": "invalid syntax (<ipython-input-15-ffed445c4992>, line 42)",
     "output_type": "error",
     "traceback": [
      "\u001b[1;36m  File \u001b[1;32m\"<ipython-input-15-ffed445c4992>\"\u001b[1;36m, line \u001b[1;32m42\u001b[0m\n\u001b[1;33m    switch(frequency):\u001b[0m\n\u001b[1;37m                      ^\u001b[0m\n\u001b[1;31mSyntaxError\u001b[0m\u001b[1;31m:\u001b[0m invalid syntax\n"
     ]
    }
   ],
   "source": [
    "#checks if complex commands are being sent\n",
    "if startRecording == True:\n",
    "    #to keep track of length of command\n",
    "    index = 0\n",
    "    #true after command start note is played. \n",
    "    while(startRecording == True):\n",
    "        #turns off command recording when trigger note is played again\n",
    "        if (frequency > noteValues['A4']-wiggle and frequency < noteValues['A4']+wiggle):\n",
    "            startRecording = False;\n",
    "        else:\n",
    "            #records note into an array called command\n",
    "            command[index] = note\n",
    "            index = index + 1\n",
    "    #runs commands\n",
    "    commands(command)\n",
    "    \n",
    "#if command is not being recorded  \n",
    "else:\n",
    "    \n",
    "    #starts command recording\n",
    "    if (frequency > noteValues['A4']-wiggle and frequency < noteValues['A4']+wiggle):\n",
    "            startRecording = True;\n",
    "            \n",
    "    #sets G string to control x-axis mouse\n",
    "    if(frequency >= noteValues[G3] and frequency < noteValues[D4]):\n",
    "        if(frequency < lastnote):\n",
    "            pag.moveRel(-(lastnote-frequency*50), 0, 0.1)\n",
    "        elif(frequency < lastnote):\n",
    "            pag.moveRel((lastnote-frequency*50), 0, 0.1)\n",
    "        lastnote = note\n",
    "        \n",
    "    #sets D string to control y-axis mouse\n",
    "    if(frequency >= noteValues[D4] and frequency < noteValues[A5]):\n",
    "        if(frequency < lastnote):\n",
    "            pag.moveRel(0,-(lastnote-frequency*50), 0.1)\n",
    "        elif(frequency < lastnote):\n",
    "            pag.moveRel(0,(lastnote-frequency*50), 0.1)\n",
    "        lastnote = note\n",
    "        \n",
    "    #sets commands for other notes above A\n",
    "    if(frequency > noteValue[A5]):\n",
    "        switch(frequency):\n",
    "            "
   ]
  },
  {
   "cell_type": "code",
   "execution_count": null,
   "metadata": {
    "collapsed": true
   },
   "outputs": [],
   "source": [
    "\n",
    "\n"
   ]
  },
  {
   "cell_type": "code",
   "execution_count": null,
   "metadata": {
    "collapsed": true
   },
   "outputs": [],
   "source": [
    "\n",
    "width, height = pag.size()\n",
    "distance = 500\n",
    "while(distance > 0):\n",
    "    pag.moveRel(distance, 0, 0.2)\n",
    "    pag.moveRel(0, -distance, 0.2)\n",
    "    distance = distance - 50\n",
    "    pag.moveRel(-distance, 0, 0.2)\n",
    "    pag.moveRel(0, distance, 0.2)"
   ]
  },
  {
   "cell_type": "code",
   "execution_count": null,
   "metadata": {
    "collapsed": true
   },
   "outputs": [],
   "source": [
    "for i in range(20):\n",
    "    time.sleep(1)\n",
    "    pag.typewrite(['up'])\n",
    "    time.sleep(1)\n",
    "    pag.keyDown(['down'])\n",
    "    time.sleep(0.5)\n",
    "    pag.keyUp(['down'])"
   ]
  },
  {
   "cell_type": "code",
   "execution_count": null,
   "metadata": {
    "collapsed": true
   },
   "outputs": [],
   "source": [
    "for i in range(5):\n",
    "    pag.mouseUp(500, 0.2)"
   ]
  },
  {
   "cell_type": "code",
   "execution_count": null,
   "metadata": {
    "collapsed": true
   },
   "outputs": [],
   "source": [
    "import time"
   ]
  },
  {
   "cell_type": "code",
   "execution_count": null,
   "metadata": {
    "collapsed": true
   },
   "outputs": [],
   "source": []
  }
 ],
 "metadata": {
  "kernelspec": {
   "display_name": "Python 3",
   "language": "python",
   "name": "python3"
  },
  "language_info": {
   "codemirror_mode": {
    "name": "ipython",
    "version": 3
   },
   "file_extension": ".py",
   "mimetype": "text/x-python",
   "name": "python",
   "nbconvert_exporter": "python",
   "pygments_lexer": "ipython3",
   "version": "3.6.1"
  }
 },
 "nbformat": 4,
 "nbformat_minor": 2
}
