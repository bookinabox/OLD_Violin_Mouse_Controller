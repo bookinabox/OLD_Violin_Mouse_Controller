{
 "cells": [
  {
   "cell_type": "code",
   "execution_count": null,
   "metadata": {
    "collapsed": true
   },
   "outputs": [],
   "source": [
    "import socket\n",
    "import re\n",
    "import pyautogui as pag\n",
    "import music21 as mus\n",
    "import time"
   ]
  },
  {
   "cell_type": "code",
   "execution_count": null,
   "metadata": {},
   "outputs": [],
   "source": [
    "sock = socket.socket(socket.AF_INET, socket.SOCK_STREAM)\n",
    "sock.bind((\"127.0.0.1\", 3000))\n",
    "sock.listen(1)"
   ]
  },
  {
   "cell_type": "code",
   "execution_count": null,
   "metadata": {},
   "outputs": [],
   "source": [
    "sock1 = socket.create_connection(('localhost', 3001))\n",
    "(client,(ip, port)) =  sock.accept()"
   ]
  },
  {
   "cell_type": "code",
   "execution_count": null,
   "metadata": {
    "collapsed": true
   },
   "outputs": [],
   "source": [
    "message = \"Start;\"\n",
    "sock1.send(message.encode('UTF-8'))\n",
    "x = client.recv(10)\n",
    "print(x)"
   ]
  },
  {
   "cell_type": "code",
   "execution_count": null,
   "metadata": {
    "collapsed": true
   },
   "outputs": [],
   "source": [
    "while(True):\n",
    "    message = \"Go;\"\n",
    "    sock1.send(message.encode('UTF-8'))\n",
    "    x = client.recv(10)\n",
    "    x = str(x)\n",
    "\n",
    "    direct = x[x.find('foo'):x.find(' ')]\n",
    "    direct = re.findall('\\d+', direct)\n",
    "    \n",
    "    ampl = x[x.find(' '):]\n",
    "    ampl = re.findall('\\d+', ampl)\n",
    "    \n",
    "    try: \n",
    "        direct = int(direct[0])\n",
    "    except IndexError:\n",
    "        direct = int(0)\n",
    "        \n",
    "    try: \n",
    "        ampl = int(ampl[0])\n",
    "    except IndexError:\n",
    "        ampl = int(0)\n",
    "        \n",
    "    print(\"Direction: \" + str(direct) + \"\\n\" + \"Amplitude: \" + str(ampl))\n",
    "    "
   ]
  },
  {
   "cell_type": "code",
   "execution_count": null,
   "metadata": {
    "collapsed": true
   },
   "outputs": [],
   "source": []
  }
 ],
 "metadata": {
  "kernelspec": {
   "display_name": "Python 3",
   "language": "python",
   "name": "python3"
  },
  "language_info": {
   "codemirror_mode": {
    "name": "ipython",
    "version": 3
   },
   "file_extension": ".py",
   "mimetype": "text/x-python",
   "name": "python",
   "nbconvert_exporter": "python",
   "pygments_lexer": "ipython3",
   "version": "3.6.1"
  }
 },
 "nbformat": 4,
 "nbformat_minor": 2
}
