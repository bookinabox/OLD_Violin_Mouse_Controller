{
 "cells": [
  {
   "cell_type": "code",
   "execution_count": null,
   "metadata": {
    "collapsed": true
   },
   "outputs": [],
   "source": [
    "import socket\n",
    "import re\n",
    "import pyautogui as pag\n",
    "import music21 as mus\n",
    "import time"
   ]
  },
  {
   "cell_type": "code",
   "execution_count": null,
   "metadata": {
    "collapsed": true
   },
   "outputs": [],
   "source": [
    "sock = socket.socket(socket.AF_INET, socket.SOCK_STREAM)\n",
    "sock.bind((\"127.0.0.1\", 3000))\n",
    "sock.listen(3)"
   ]
  },
  {
   "cell_type": "code",
   "execution_count": null,
   "metadata": {
    "collapsed": true
   },
   "outputs": [],
   "source": [
    "sock1 = socket.create_connection(('localhost', 3001))\n",
    "(client,(ip, port)) =  sock.accept()"
   ]
  },
  {
   "cell_type": "code",
   "execution_count": null,
   "metadata": {},
   "outputs": [],
   "source": [
    "message = \"Start;\"\n",
    "sock1.send(message.encode('UTF-8'))\n",
    "x = client.recv(10)\n",
    "print(x)"
   ]
  },
  {
   "cell_type": "code",
   "execution_count": null,
   "metadata": {},
   "outputs": [],
   "source": [
    "while(True):\n",
    "    message = \"Go;\"\n",
    "    sock1.send(message.encode('UTF-8'))\n",
    "    x = client.recv(10)\n",
    "    x = str(x)\n",
    "\n",
    "    x = x[x.find('foo'):x.find('.')]\n",
    "\n",
    "    x = re.findall('\\d+', x)\n",
    "    \n",
    "    try: \n",
    "        x = int(x[0])\n",
    "    except IndexError:\n",
    "        x = int(0)\n",
    "        \n",
    "    print(x)    \n",
    "    if(x == 1):\n",
    "        pag.moveRel(2, 0, 0.01)\n",
    "    elif(x == 2):\n",
    "        pag.moveRel(-2, 0, 0.01)\n",
    "    elif(x == 3):\n",
    "        pag.moveRel(0, 2, 0.01)\n",
    "    elif(x == 4):\n",
    "        pag.moveRel(0, -2, 0.01)\n",
    "    time.sleep(0.2)"
   ]
  },
  {
   "cell_type": "code",
   "execution_count": null,
   "metadata": {
    "collapsed": true
   },
   "outputs": [],
   "source": []
  },
  {
   "cell_type": "code",
   "execution_count": null,
   "metadata": {
    "collapsed": true
   },
   "outputs": [],
   "source": []
  }
 ],
 "metadata": {
  "kernelspec": {
   "display_name": "Python 3",
   "language": "python",
   "name": "python3"
  },
  "language_info": {
   "codemirror_mode": {
    "name": "ipython",
    "version": 3
   },
   "file_extension": ".py",
   "mimetype": "text/x-python",
   "name": "python",
   "nbconvert_exporter": "python",
   "pygments_lexer": "ipython3",
   "version": "3.6.1"
  }
 },
 "nbformat": 4,
 "nbformat_minor": 2
}
